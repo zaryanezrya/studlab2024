{
 "cells": [
  {
   "cell_type": "code",
   "execution_count": 1,
   "metadata": {},
   "outputs": [
    {
     "name": "stdout",
     "output_type": "stream",
     "text": [
      "\u001b[33mподсказка: Using 'master' as the name for the initial branch. This default branch name\u001b[m\n",
      "\u001b[33mподсказка: is subject to change. To configure the initial branch name to use in all\u001b[m\n",
      "\u001b[33mподсказка: of your new repositories, which will suppress this warning, call:\u001b[m\n",
      "\u001b[33mподсказка: \u001b[m\n",
      "\u001b[33mподсказка: \tgit config --global init.defaultBranch <name>\u001b[m\n",
      "\u001b[33mподсказка: \u001b[m\n",
      "\u001b[33mподсказка: Names commonly chosen instead of 'master' are 'main', 'trunk' and\u001b[m\n",
      "\u001b[33mподсказка: 'development'. The just-created branch can be renamed via this command:\u001b[m\n",
      "\u001b[33mподсказка: \u001b[m\n",
      "\u001b[33mподсказка: \tgit branch -m <name>\u001b[m\n",
      "Инициализирован пустой репозиторий Git в /home/zaryanezrya/projects/about_gh/.git/\n"
     ]
    }
   ],
   "source": [
    "!git init"
   ]
  },
  {
   "cell_type": "markdown",
   "metadata": {},
   "source": [
    "[Основы Git - Запись изменений в репозиторий](https://git-scm.com/book/ru/v2/%D0%9E%D1%81%D0%BD%D0%BE%D0%B2%D1%8B-Git-%D0%97%D0%B0%D0%BF%D0%B8%D1%81%D1%8C-%D0%B8%D0%B7%D0%BC%D0%B5%D0%BD%D0%B5%D0%BD%D0%B8%D0%B9-%D0%B2-%D1%80%D0%B5%D0%BF%D0%BE%D0%B7%D0%B8%D1%82%D0%BE%D1%80%D0%B8%D0%B9)\n",
    "\n",
    "https://www.conventionalcommits.org/ru/v1.0.0/\n",
    "\n",
    "https://gist.github.com/qoomon/5dfcdf8eec66a051ecd85625518cfd13\n",
    "\n"
   ]
  },
  {
   "cell_type": "code",
   "execution_count": 6,
   "metadata": {},
   "outputs": [
    {
     "name": "stdout",
     "output_type": "stream",
     "text": [
      "Текущая ветка: master\n",
      "\n",
      "Еще нет коммитов\n",
      "\n",
      "Изменения, которые будут включены в коммит:\n",
      "  (используйте «git rm --cached <файл>...», чтобы убрать из индекса)\n",
      "\t\u001b[32mновый файл:    pyproject.toml\u001b[m\n",
      "\n",
      "Неотслеживаемые файлы:\n",
      "  (используйте «git add <файл>...», чтобы добавить в то, что будет включено в коммит)\n",
      "\t\u001b[31mmain.ipynb\u001b[m\n",
      "\n"
     ]
    }
   ],
   "source": [
    "!git status"
   ]
  },
  {
   "cell_type": "code",
   "execution_count": null,
   "metadata": {},
   "outputs": [],
   "source": [
    "!git add poetry.lock pyproject.toml"
   ]
  },
  {
   "cell_type": "code",
   "execution_count": null,
   "metadata": {},
   "outputs": [],
   "source": [
    "!git status"
   ]
  },
  {
   "cell_type": "code",
   "execution_count": 7,
   "metadata": {},
   "outputs": [
    {
     "name": "stdout",
     "output_type": "stream",
     "text": [
      "[master (корневой коммит) b4b4f49] chore: init\n",
      " 1 file changed, 15 insertions(+)\n",
      " create mode 100644 pyproject.toml\n"
     ]
    }
   ],
   "source": [
    "!git commit -m \"chore: init\""
   ]
  },
  {
   "cell_type": "code",
   "execution_count": 8,
   "metadata": {},
   "outputs": [
    {
     "name": "stdout",
     "output_type": "stream",
     "text": [
      "\u001b[33mcommit b4b4f4913c1bad3851ce759e7edecdab8b3c558e\u001b[m\u001b[33m (\u001b[m\u001b[1;36mHEAD -> \u001b[m\u001b[1;32mmaster\u001b[m\u001b[33m)\u001b[m\n",
      "Author: zaryanezrya <ivan@sha.run>\n",
      "Date:   Wed Jul 17 11:42:06 2024 +0600\n",
      "\n",
      "    chore: init\n"
     ]
    }
   ],
   "source": [
    "!git log"
   ]
  },
  {
   "cell_type": "code",
   "execution_count": 9,
   "metadata": {},
   "outputs": [
    {
     "name": "stdout",
     "output_type": "stream",
     "text": [
      "Перечисление объектов: 3, готово.\n",
      "Подсчет объектов: 100% (3/3), готово.\n",
      "При сжатии изменений используется до 8 потоков\n",
      "Сжатие объектов: 100% (2/2), готово.\n",
      "Запись объектов: 100% (3/3), 417 байтов | 417.00 КиБ/с, готово.\n",
      "Всего 3 (изменений 0), повторно использовано 0 (изменений 0), повторно использовано пакетов 0\n",
      "To github.com:zaryanezrya/studlab2024.git\n",
      " * [new branch]      master -> master\n",
      "Ветка «master» отслеживает внешнюю ветку «master» из «origin».\n"
     ]
    }
   ],
   "source": [
    "!git remote add origin git@github.com:zaryanezrya/studlab2024.git\n",
    "!git push -u origin master"
   ]
  },
  {
   "cell_type": "code",
   "execution_count": 10,
   "metadata": {},
   "outputs": [
    {
     "name": "stdout",
     "output_type": "stream",
     "text": [
      "Writing test_example.py\n"
     ]
    }
   ],
   "source": [
    "%%file test_example.py\n",
    "\n",
    "import unittest\n",
    "\n",
    "class TestExample(unittest.TestCase):\n",
    "    def test_example(self):\n",
    "        self.assertEqual(2 + 2, 5)"
   ]
  },
  {
   "cell_type": "code",
   "execution_count": 11,
   "metadata": {},
   "outputs": [
    {
     "name": "stdout",
     "output_type": "stream",
     "text": [
      "F\n",
      "======================================================================\n",
      "FAIL: test_example (test_example.TestExample)\n",
      "----------------------------------------------------------------------\n",
      "Traceback (most recent call last):\n",
      "  File \"/home/zaryanezrya/projects/about_gh/test_example.py\", line 6, in test_example\n",
      "    self.assertEqual(2 + 2, 5)\n",
      "AssertionError: 4 != 5\n",
      "\n",
      "----------------------------------------------------------------------\n",
      "Ran 1 test in 0.000s\n",
      "\n",
      "FAILED (failures=1)\n"
     ]
    }
   ],
   "source": [
    "!python -u -m unittest discover"
   ]
  },
  {
   "cell_type": "code",
   "execution_count": 12,
   "metadata": {},
   "outputs": [
    {
     "name": "stdout",
     "output_type": "stream",
     "text": [
      "Using version \u001b[39;1m^24.4.2\u001b[39;22m for \u001b[36mblack\u001b[39m\n",
      "\n",
      "\u001b[34mUpdating dependencies\u001b[39m\n",
      "\u001b[2K\u001b[34mResolving dependencies...\u001b[39m \u001b[39;2m(2.1s)\u001b[39;22m\n",
      "\n",
      "No dependencies to install or update\n",
      "\n",
      "\u001b[34mWriting lock file\u001b[39m\n"
     ]
    }
   ],
   "source": [
    "!poetry add black --group dev"
   ]
  },
  {
   "cell_type": "code",
   "execution_count": 16,
   "metadata": {},
   "outputs": [
    {
     "name": "stdout",
     "output_type": "stream",
     "text": [
      "\u001b[1mSkipping .ipynb files as Jupyter dependencies are not installed.\n",
      "You can fix this by running ``pip install \"black[jupyter]\"``\u001b[0m\n",
      "\u001b[1mwould reformat /home/zaryanezrya/projects/about_gh/test_example.py\u001b[0m\n",
      "\n",
      "\u001b[1mOh no! 💥 💔 💥\u001b[0m\n",
      "\u001b[34m\u001b[1m1 file \u001b[0m\u001b[1mwould be reformatted\u001b[0m.\n"
     ]
    }
   ],
   "source": [
    "!python -m black . --check"
   ]
  },
  {
   "cell_type": "code",
   "execution_count": 17,
   "metadata": {},
   "outputs": [
    {
     "name": "stdout",
     "output_type": "stream",
     "text": [
      "[master 8ddc183] feat: simple test example\n",
      " 1 file changed, 6 insertions(+)\n",
      " create mode 100644 test_example.py\n"
     ]
    }
   ],
   "source": [
    "!git add test_example.py\n",
    "!git commit -m \"feat: simple test example\""
   ]
  },
  {
   "cell_type": "code",
   "execution_count": 18,
   "metadata": {},
   "outputs": [
    {
     "name": "stdout",
     "output_type": "stream",
     "text": [
      "Перечисление объектов: 4, готово.\n",
      "Подсчет объектов: 100% (4/4), готово.\n",
      "При сжатии изменений используется до 8 потоков\n",
      "Сжатие объектов: 100% (3/3), готово.\n",
      "Запись объектов: 100% (3/3), 382 байта | 382.00 КиБ/с, готово.\n",
      "Всего 3 (изменений 0), повторно использовано 0 (изменений 0), повторно использовано пакетов 0\n",
      "To github.com:zaryanezrya/studlab2024.git\n",
      "   b4b4f49..8ddc183  master -> master\n"
     ]
    }
   ],
   "source": [
    "!git push origin master"
   ]
  },
  {
   "cell_type": "markdown",
   "metadata": {},
   "source": [
    "https://docs.github.com/ru/actions/automating-builds-and-tests/about-continuous-integration\n",
    "\n",
    "\n",
    "https://docs.github.com/en/actions/using-workflows/events-that-trigger-workflows"
   ]
  },
  {
   "cell_type": "code",
   "execution_count": 19,
   "metadata": {},
   "outputs": [],
   "source": [
    "!mkdir -p .github/workflows/"
   ]
  },
  {
   "cell_type": "code",
   "execution_count": 24,
   "metadata": {},
   "outputs": [
    {
     "name": "stdout",
     "output_type": "stream",
     "text": [
      "Overwriting .github/workflows/integrate.yml\n"
     ]
    }
   ],
   "source": [
    "%%file .github/workflows/integrate.yml\n",
    "name: CI\n",
    "\n",
    "on: [push]\n",
    "\n",
    "jobs:\n",
    "  build:\n",
    "\n",
    "    runs-on: ubuntu-latest\n",
    "\n",
    "    steps:\n",
    "    - uses: actions/checkout@v1\n",
    "\n",
    "    - name: Setup Python\n",
    "      uses: actions/setup-python@v2\n",
    "      with:\n",
    "        python-version: 3.10.14\n",
    "\n",
    "    - name: Install poetry\n",
    "      run: |\n",
    "        python -m pip install poetry\n",
    "\n",
    "    - name: Configure poetry\n",
    "      run: |\n",
    "        python -m poetry config virtualenvs.in-project true\n",
    "\n",
    "    - name: Cache the virtualenv\n",
    "      uses: actions/cache@v2\n",
    "      with:\n",
    "        path: ./.venv\n",
    "        key: ${{ runner.os }}-venv-${{ hashFiles('**/poetry.lock') }}\n",
    "\n",
    "    - name: Install dependencies\n",
    "      run: |\n",
    "        python -m poetry install\n",
    "\n",
    "    - name: Run linters\n",
    "      run: |\n",
    "        python -m poetry run python -m black . --check\n",
    "\n",
    "    - name: Run tests\n",
    "      run: |\n",
    "        python -m poetry run python -u -m unittest discover\n"
   ]
  },
  {
   "cell_type": "code",
   "execution_count": 2,
   "metadata": {},
   "outputs": [
    {
     "name": "stdout",
     "output_type": "stream",
     "text": [
      "The following packages are already present in the pyproject.toml and will be skipped:\n",
      "\n",
      "  • \u001b[36mblack\u001b[39m\n",
      "\n",
      "If you want to update it to the latest compatible version, you can use `poetry update package`.\n",
      "If you prefer to upgrade it to the latest available version, you can use `poetry add package@latest`.\n",
      "\n",
      "Nothing to add.\n"
     ]
    }
   ],
   "source": [
    "!poetry add black --group dev"
   ]
  },
  {
   "cell_type": "code",
   "execution_count": 1,
   "metadata": {},
   "outputs": [
    {
     "name": "stdout",
     "output_type": "stream",
     "text": [
      "[master 9b46b18] ops: settings up CI\n",
      " 1 file changed, 42 insertions(+)\n",
      " create mode 100644 .github/workflows/integrate.yml\n",
      "Перечисление объектов: 6, готово.\n",
      "Подсчет объектов: 100% (6/6), готово.\n",
      "При сжатии изменений используется до 8 потоков\n",
      "Сжатие объектов: 100% (3/3), готово.\n",
      "Запись объектов: 100% (5/5), 761 байт | 761.00 КиБ/с, готово.\n",
      "Всего 5 (изменений 0), повторно использовано 0 (изменений 0), повторно использовано пакетов 0\n",
      "To github.com:zaryanezrya/studlab2024.git\n",
      "   8ddc183..9b46b18  master -> master\n"
     ]
    }
   ],
   "source": [
    "!git add .github/workflows/integrate.yml\n",
    "!git commit -m \"ops: settings up CI\"\n",
    "!git push origin master"
   ]
  },
  {
   "cell_type": "code",
   "execution_count": 1,
   "metadata": {},
   "outputs": [
    {
     "name": "stdout",
     "output_type": "stream",
     "text": [
      "Using version \u001b[39;1m^3.7.1\u001b[39;22m for \u001b[36mpre-commit\u001b[39m\n",
      "\n",
      "\u001b[34mUpdating dependencies\u001b[39m\n",
      "\u001b[2K\u001b[34mResolving dependencies...\u001b[39m \u001b[39;2m(1.7s)\u001b[39;22m\n",
      "\n",
      "No dependencies to install or update\n",
      "\n",
      "\u001b[34mWriting lock file\u001b[39m\n"
     ]
    }
   ],
   "source": [
    "!poetry add pre-commit --group dev"
   ]
  },
  {
   "cell_type": "code",
   "execution_count": 2,
   "metadata": {},
   "outputs": [
    {
     "name": "stdout",
     "output_type": "stream",
     "text": [
      "\u001b[43;30m[WARNING]\u001b[m Unstaged files detected.\n",
      "[INFO]\u001b[m Stashing unstaged files to /home/zaryanezrya/.cache/pre-commit/patch1721197962-9866.\n",
      "[INFO]\u001b[m Restored changes from /home/zaryanezrya/.cache/pre-commit/patch1721197962-9866.\n",
      "An error has occurred: InvalidConfigError: \n",
      "=====> .pre-commit-config.yaml is not a file\n",
      "Check the log at /home/zaryanezrya/.cache/pre-commit/pre-commit.log\n"
     ]
    }
   ],
   "source": [
    "!poetry run pre-commit"
   ]
  },
  {
   "cell_type": "code",
   "execution_count": 3,
   "metadata": {},
   "outputs": [
    {
     "name": "stdout",
     "output_type": "stream",
     "text": [
      "Writing .pre-commit-config.yaml\n"
     ]
    }
   ],
   "source": [
    "%%file .pre-commit-config.yaml \n",
    "repos:\n",
    "-   repo: https://github.com/pre-commit/pre-commit-hooks\n",
    "    rev: v2.3.0\n",
    "    hooks:\n",
    "    -   id: check-yaml\n",
    "    -   id: end-of-file-fixer\n",
    "    -   id: trailing-whitespace\n",
    "-   repo: https://github.com/psf/black\n",
    "    rev: 22.10.0\n",
    "    hooks:\n",
    "    -   id: black"
   ]
  },
  {
   "cell_type": "code",
   "execution_count": 4,
   "metadata": {},
   "outputs": [
    {
     "name": "stdout",
     "output_type": "stream",
     "text": [
      "pre-commit installed at .git/hooks/pre-commit\n"
     ]
    }
   ],
   "source": [
    "!pre-commit install"
   ]
  },
  {
   "cell_type": "code",
   "execution_count": null,
   "metadata": {},
   "outputs": [],
   "source": [
    "!pre-commit run --all-files"
   ]
  },
  {
   "cell_type": "code",
   "execution_count": 5,
   "metadata": {},
   "outputs": [
    {
     "name": "stdout",
     "output_type": "stream",
     "text": [
      "Overwriting .pre-commit-config.yaml\n"
     ]
    }
   ],
   "source": [
    "%%file .pre-commit-config.yaml \n",
    "repos:\n",
    "-   repo: https://github.com/pre-commit/pre-commit-hooks\n",
    "    rev: v2.3.0\n",
    "    hooks:\n",
    "    -   id: check-yaml\n",
    "    -   id: end-of-file-fixer\n",
    "    -   id: trailing-whitespace\n",
    "-   repo: https://github.com/psf/black\n",
    "    rev: 22.10.0\n",
    "    hooks:\n",
    "    -   id: black\n",
    "\n",
    "-   repo: https://github.com/compilerla/conventional-pre-commit\n",
    "    rev: v3.3.0\n",
    "    hooks:\n",
    "    -   id: conventional-pre-commit\n",
    "        stages: [commit-msg]\n",
    "        args: []\n"
   ]
  },
  {
   "cell_type": "code",
   "execution_count": 6,
   "metadata": {},
   "outputs": [
    {
     "name": "stdout",
     "output_type": "stream",
     "text": [
      "pre-commit installed at .git/hooks/commit-msg\n"
     ]
    }
   ],
   "source": [
    "!pre-commit install --hook-type commit-msg"
   ]
  }
 ],
 "metadata": {
  "kernelspec": {
   "display_name": "about-gh-ojoun9m9-py3.10",
   "language": "python",
   "name": "python3"
  },
  "language_info": {
   "codemirror_mode": {
    "name": "ipython",
    "version": 3
   },
   "file_extension": ".py",
   "mimetype": "text/x-python",
   "name": "python",
   "nbconvert_exporter": "python",
   "pygments_lexer": "ipython3",
   "version": "3.10.12"
  }
 },
 "nbformat": 4,
 "nbformat_minor": 2
}
